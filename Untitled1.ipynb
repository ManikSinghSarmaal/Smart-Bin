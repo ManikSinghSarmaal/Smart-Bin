{
 "cells": [
  {
   "cell_type": "code",
   "execution_count": 9,
   "id": "582f8bc2-d298-4831-8f7c-4be565c853f5",
   "metadata": {},
   "outputs": [
    {
     "ename": "ValueError",
     "evalue": "in user code:\n\n    File \"/Users/maniksinghsarmaal/mambaforge3/envs/sbin/lib/python3.10/site-packages/keras/src/engine/training.py\", line 2416, in predict_function  *\n        return step_function(self, iterator)\n    File \"/Users/maniksinghsarmaal/mambaforge3/envs/sbin/lib/python3.10/site-packages/keras/src/engine/training.py\", line 2401, in step_function  **\n        outputs = model.distribute_strategy.run(run_step, args=(data,))\n    File \"/Users/maniksinghsarmaal/mambaforge3/envs/sbin/lib/python3.10/site-packages/keras/src/engine/training.py\", line 2389, in run_step  **\n        outputs = model.predict_step(data)\n    File \"/Users/maniksinghsarmaal/mambaforge3/envs/sbin/lib/python3.10/site-packages/keras/src/engine/training.py\", line 2357, in predict_step\n        return self(x, training=False)\n    File \"/Users/maniksinghsarmaal/mambaforge3/envs/sbin/lib/python3.10/site-packages/keras/src/utils/traceback_utils.py\", line 70, in error_handler\n        raise e.with_traceback(filtered_tb) from None\n    File \"/Users/maniksinghsarmaal/mambaforge3/envs/sbin/lib/python3.10/site-packages/keras/src/engine/input_spec.py\", line 298, in assert_input_compatibility\n        raise ValueError(\n\n    ValueError: Input 0 of layer \"Modified_ResNet50\" is incompatible with the layer: expected shape=(None, 384, 384, 3), found shape=(None, 224, 224, 3)\n",
     "output_type": "error",
     "traceback": [
      "\u001b[0;31m---------------------------------------------------------------------------\u001b[0m",
      "\u001b[0;31mValueError\u001b[0m                                Traceback (most recent call last)",
      "Cell \u001b[0;32mIn[9], line 17\u001b[0m\n\u001b[1;32m     14\u001b[0m img \u001b[38;5;241m=\u001b[39m preprocess_input(img)\n\u001b[1;32m     16\u001b[0m \u001b[38;5;66;03m# Make predictions on the preprocessed image\u001b[39;00m\n\u001b[0;32m---> 17\u001b[0m predictions \u001b[38;5;241m=\u001b[39m \u001b[43mloaded_model\u001b[49m\u001b[38;5;241;43m.\u001b[39;49m\u001b[43mpredict\u001b[49m\u001b[43m(\u001b[49m\u001b[43mimg\u001b[49m\u001b[43m)\u001b[49m\n",
      "File \u001b[0;32m~/mambaforge3/envs/sbin/lib/python3.10/site-packages/keras/src/utils/traceback_utils.py:70\u001b[0m, in \u001b[0;36mfilter_traceback.<locals>.error_handler\u001b[0;34m(*args, **kwargs)\u001b[0m\n\u001b[1;32m     67\u001b[0m     filtered_tb \u001b[38;5;241m=\u001b[39m _process_traceback_frames(e\u001b[38;5;241m.\u001b[39m__traceback__)\n\u001b[1;32m     68\u001b[0m     \u001b[38;5;66;03m# To get the full stack trace, call:\u001b[39;00m\n\u001b[1;32m     69\u001b[0m     \u001b[38;5;66;03m# `tf.debugging.disable_traceback_filtering()`\u001b[39;00m\n\u001b[0;32m---> 70\u001b[0m     \u001b[38;5;28;01mraise\u001b[39;00m e\u001b[38;5;241m.\u001b[39mwith_traceback(filtered_tb) \u001b[38;5;28;01mfrom\u001b[39;00m \u001b[38;5;28;01mNone\u001b[39;00m\n\u001b[1;32m     71\u001b[0m \u001b[38;5;28;01mfinally\u001b[39;00m:\n\u001b[1;32m     72\u001b[0m     \u001b[38;5;28;01mdel\u001b[39;00m filtered_tb\n",
      "File \u001b[0;32m/var/folders/qf/ktzdhw657fv9dfrrl6yml4b00000gn/T/__autograph_generated_file3kqzthx2.py:15\u001b[0m, in \u001b[0;36mouter_factory.<locals>.inner_factory.<locals>.tf__predict_function\u001b[0;34m(iterator)\u001b[0m\n\u001b[1;32m     13\u001b[0m \u001b[38;5;28;01mtry\u001b[39;00m:\n\u001b[1;32m     14\u001b[0m     do_return \u001b[38;5;241m=\u001b[39m \u001b[38;5;28;01mTrue\u001b[39;00m\n\u001b[0;32m---> 15\u001b[0m     retval_ \u001b[38;5;241m=\u001b[39m ag__\u001b[38;5;241m.\u001b[39mconverted_call(ag__\u001b[38;5;241m.\u001b[39mld(step_function), (ag__\u001b[38;5;241m.\u001b[39mld(\u001b[38;5;28mself\u001b[39m), ag__\u001b[38;5;241m.\u001b[39mld(iterator)), \u001b[38;5;28;01mNone\u001b[39;00m, fscope)\n\u001b[1;32m     16\u001b[0m \u001b[38;5;28;01mexcept\u001b[39;00m:\n\u001b[1;32m     17\u001b[0m     do_return \u001b[38;5;241m=\u001b[39m \u001b[38;5;28;01mFalse\u001b[39;00m\n",
      "\u001b[0;31mValueError\u001b[0m: in user code:\n\n    File \"/Users/maniksinghsarmaal/mambaforge3/envs/sbin/lib/python3.10/site-packages/keras/src/engine/training.py\", line 2416, in predict_function  *\n        return step_function(self, iterator)\n    File \"/Users/maniksinghsarmaal/mambaforge3/envs/sbin/lib/python3.10/site-packages/keras/src/engine/training.py\", line 2401, in step_function  **\n        outputs = model.distribute_strategy.run(run_step, args=(data,))\n    File \"/Users/maniksinghsarmaal/mambaforge3/envs/sbin/lib/python3.10/site-packages/keras/src/engine/training.py\", line 2389, in run_step  **\n        outputs = model.predict_step(data)\n    File \"/Users/maniksinghsarmaal/mambaforge3/envs/sbin/lib/python3.10/site-packages/keras/src/engine/training.py\", line 2357, in predict_step\n        return self(x, training=False)\n    File \"/Users/maniksinghsarmaal/mambaforge3/envs/sbin/lib/python3.10/site-packages/keras/src/utils/traceback_utils.py\", line 70, in error_handler\n        raise e.with_traceback(filtered_tb) from None\n    File \"/Users/maniksinghsarmaal/mambaforge3/envs/sbin/lib/python3.10/site-packages/keras/src/engine/input_spec.py\", line 298, in assert_input_compatibility\n        raise ValueError(\n\n    ValueError: Input 0 of layer \"Modified_ResNet50\" is incompatible with the layer: expected shape=(None, 384, 384, 3), found shape=(None, 224, 224, 3)\n"
     ]
    }
   ],
   "source": [
    "from tensorflow.keras.models import load_model\n",
    "from tensorflow.keras.preprocessing import image\n",
    "import numpy as np\n",
    "from tensorflow.keras.applications.resnet50 import preprocess_input\n",
    "\n",
    "# Load the saved model\n",
    "loaded_model = load_model(\"/Users/maniksinghsarmaal/Downloads/s_bin/sbinv2_model.h5\")\n",
    "\n",
    "# Load and preprocess an image for prediction\n",
    "image_path = '/Users/maniksinghsarmaal/Downloads/505429_plasticbottlescrop_8719.jpg'\n",
    "img = image.load_img(image_path, target_size=(224, 224))  # Adjust target_size as needed\n",
    "img = image.img_to_array(img)\n",
    "img = np.expand_dims(img, axis=0)\n",
    "img = preprocess_input(img)\n",
    "\n",
    "# Make predictions on the preprocessed image\n",
    "predictions = loaded_model.predict(img)\n"
   ]
  },
  {
   "cell_type": "code",
   "execution_count": 10,
   "id": "bfeeaaf6-0c43-4592-91ec-c0d8fd444831",
   "metadata": {},
   "outputs": [
    {
     "name": "stdout",
     "output_type": "stream",
     "text": [
      "1/1 [==============================] - 1s 830ms/step\n"
     ]
    }
   ],
   "source": [
    "from PIL import Image\n",
    "import numpy as np\n",
    "\n",
    "# Load the image and resize it\n",
    "image_path = '/Users/maniksinghsarmaal/Downloads/x.jpg'\n",
    "img = Image.open(image_path)\n",
    "img = img.resize((384, 384))\n",
    "\n",
    "# Convert the image to a NumPy array\n",
    "img_array = np.array(img)\n",
    "img_array = img_array.reshape(1, 384, 384, 3)  # Reshape to match the model's input shape\n",
    "\n",
    "# Preprocess the image and make predictions\n",
    "img_array = preprocess_input(img_array)\n",
    "predictions = loaded_model.predict(img_array)\n"
   ]
  },
  {
   "cell_type": "code",
   "execution_count": 11,
   "id": "0ad785f1-6e3c-4518-907e-0c3b36b5825d",
   "metadata": {},
   "outputs": [
    {
     "name": "stdout",
     "output_type": "stream",
     "text": [
      "Predicted class: cardboard\n"
     ]
    }
   ],
   "source": [
    "# Assuming you have a list of class names\n",
    "class_names = [\"cardboard\", \"glass\", \"metal\", \"metal\", \"paper\", \"plastic\", \"trash\" ]\n",
    "\n",
    "# Find the class index with the highest probability\n",
    "predicted_class_index = np.argmax(predictions, axis=1)\n",
    "\n",
    "# Map the class index to the class name\n",
    "predicted_class_name = class_names[predicted_class_index[0]]\n",
    "\n",
    "# Display the predicted class name\n",
    "print(\"Predicted class:\", predicted_class_name)\n"
   ]
  },
  {
   "cell_type": "code",
   "execution_count": null,
   "id": "b85cfc96-61d9-4efb-91e7-0ea14743bc05",
   "metadata": {},
   "outputs": [],
   "source": []
  }
 ],
 "metadata": {
  "kernelspec": {
   "display_name": "Python 3 (ipykernel)",
   "language": "python",
   "name": "python3"
  },
  "language_info": {
   "codemirror_mode": {
    "name": "ipython",
    "version": 3
   },
   "file_extension": ".py",
   "mimetype": "text/x-python",
   "name": "python",
   "nbconvert_exporter": "python",
   "pygments_lexer": "ipython3",
   "version": "3.10.13"
  }
 },
 "nbformat": 4,
 "nbformat_minor": 5
}
