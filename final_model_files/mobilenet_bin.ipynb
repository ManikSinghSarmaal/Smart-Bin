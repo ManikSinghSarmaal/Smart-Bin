{
 "cells": [
  {
   "cell_type": "code",
   "execution_count": null,
   "metadata": {},
   "outputs": [],
   "source": [
    "import numpy as np\n",
    "import pandas as pd\n",
    "import random\n",
    "import matplotlib.pyplot as plt\n",
    "import matplotlib.image as mpimg\n",
    "import seaborn as sns\n",
    "from PIL import Image\n",
    "# Used to build and deploy machine learning apps\n",
    "import tensorflow as tf\n",
    "import keras\n",
    "# Deep Learning API for creating Neural Networks (Runs on TensorFlow)\n",
    "from keras import layers\n",
    "from tensorflow import math\n",
    "from keras.models import Sequential\n",
    "from keras.layers import Conv2D, MaxPool2D, Flatten, Dense, Activation\n",
    "from keras.preprocessing.image import ImageDataGenerator\n",
    "\n",
    "# sklearn : machine learning library\n",
    "from sklearn.model_selection import train_test_split\n",
    "from sklearn.compose import make_column_transformer\n",
    "from sklearn.preprocessing import MinMaxScaler, OneHotEncoder\n",
    "\n",
    "# Used for accessing files and file names\n",
    "import pathlib \n",
    "import os\n",
    "import zipfile"
   ]
  },
  {
   "cell_type": "code",
   "execution_count": null,
   "metadata": {},
   "outputs": [],
   "source": [
    "files = '/Users/maniksinghsarmaal/Downloads/s_bin/Sbin_f/dataset'"
   ]
  },
  {
   "cell_type": "code",
   "execution_count": null,
   "metadata": {},
   "outputs": [],
   "source": [
    "def display_random_img(dir,class_name):\n",
    "    img_dir = dir + '/' + class_name\n",
    "    files = os.listdir(img_dir)\n",
    "    \n",
    "    for i in range(5):\n",
    "        img_file = random.choice(files)\n",
    "        img = mpimg.imread(os.path.join(img_dir, img_file))\n",
    "        plt.imshow(img)\n",
    "        plt.title(class_name)\n",
    "        plt.axis(\"off\")\n",
    "        print(f'Image Shape is: {img.shape}')\n",
    "        plt.show()"
   ]
  },
  {
   "cell_type": "code",
   "execution_count": null,
   "metadata": {},
   "outputs": [],
   "source": [
    "display_random_img(files+'/train','Organic(1)')"
   ]
  },
  {
   "cell_type": "code",
   "execution_count": null,
   "metadata": {},
   "outputs": [],
   "source": [
    "# Setup train & test directories\n",
    "train_dir = os.path.join(files,\"train\")\n",
    "validation_dir = os.path.join(files,\"val\")"
   ]
  },
  {
   "cell_type": "code",
   "execution_count": null,
   "metadata": {},
   "outputs": [],
   "source": [
    "# Normalize from 0 to 255 to 0 to 1 \n",
    "train_IDG = ImageDataGenerator(rescale=1/255)\n",
    "validation_IDG = ImageDataGenerator(rescale=1/255)\n",
    "\n",
    "# Load data and turn it into batches\n",
    "train_data = train_IDG.flow_from_directory(train_dir,\n",
    "                                                target_size=(256, 256),\n",
    "                                                batch_size=32,\n",
    "                                                class_mode=\"categorical\") # Multi-class instead of binary\n",
    "\n",
    "val_data = validation_IDG.flow_from_directory(validation_dir,\n",
    "                                                target_size=(256, 256),\n",
    "                                                batch_size=32,\n",
    "                                                class_mode=\"categorical\")"
   ]
  },
  {
   "cell_type": "code",
   "execution_count": null,
   "metadata": {},
   "outputs": [],
   "source": [
    "def create_model(model_url,num_classes=3):\n",
    "    '''\n",
    "    input:  model url as an input and returns customized model for specified number of classes \n",
    "    output: compiled model with Adam optimizer,categorical crossentropy as loss, accuracy as metrics\n",
    "    '''\n",
    "    feature_extraction_layer = hub.KerasLayer(model_url,trainable=False,input_shape=(224,224,3))\n",
    "    \n",
    "    model=tf.keras.Sequential([\n",
    "        feature_extraction_layer,\n",
    "        tf.keras.layers.Dense(num_classes,activation='softmax')\n",
    "    ])\n",
    "    return model"
   ]
  },
  {
   "cell_type": "code",
   "execution_count": null,
   "metadata": {},
   "outputs": [],
   "source": [
    "resnet=create_model('https://www.kaggle.com/models/tensorflow/resnet-50/frameworks/TensorFlow2/variations/classification/versions/1')"
   ]
  },
  {
   "cell_type": "code",
   "execution_count": null,
   "metadata": {},
   "outputs": [],
   "source": [
    "resnet.compile(loss='categorical_crossentropy',\n",
    "                 optimizer=tf.keras.optimizers.legacy.Adam(),\n",
    "                 metrics=['accuracy'])"
   ]
  },
  {
   "cell_type": "code",
   "execution_count": null,
   "metadata": {},
   "outputs": [],
   "source": [
    "NUM_EPOCHS = 10\n",
    "\n",
    "history = resnet.fit(train_data,\n",
    "                    validation_data=val_data,\n",
    "                    epochs=NUM_EPOCHS)"
   ]
  },
  {
   "cell_type": "code",
   "execution_count": null,
   "metadata": {},
   "outputs": [],
   "source": [
    "#testing done on test_data\n",
    "test_dir = os.path.join(files,'test')\n",
    "test_data = validation_IDG.flow_from_directory(test_dir,\n",
    "                                                target_size=(256, 256),\n",
    "                                                batch_size=32,\n",
    "                                                class_mode=\"categorical\")\n",
    "resnet.evaluate(test_data)"
   ]
  },
  {
   "cell_type": "code",
   "execution_count": 74,
   "metadata": {},
   "outputs": [
    {
     "name": "stderr",
     "output_type": "stream",
     "text": [
      "2024-02-19 00:34:23.489356: W tensorflow/compiler/mlir/lite/python/tf_tfl_flatbuffer_helpers.cc:378] Ignored output_format.\n",
      "2024-02-19 00:34:23.489372: W tensorflow/compiler/mlir/lite/python/tf_tfl_flatbuffer_helpers.cc:381] Ignored drop_control_dependency.\n",
      "2024-02-19 00:34:23.491762: I tensorflow/cc/saved_model/reader.cc:83] Reading SavedModel from: resnet_high_smartbin\n",
      "2024-02-19 00:34:23.506880: I tensorflow/cc/saved_model/reader.cc:51] Reading meta graph with tags { serve }\n",
      "2024-02-19 00:34:23.506891: I tensorflow/cc/saved_model/reader.cc:146] Reading SavedModel debug info (if present) from: resnet_high_smartbin\n",
      "2024-02-19 00:34:23.562592: I tensorflow/cc/saved_model/loader.cc:233] Restoring SavedModel bundle.\n",
      "2024-02-19 00:34:24.179447: I tensorflow/cc/saved_model/loader.cc:217] Running initialization op on SavedModel bundle at path: resnet_high_smartbin\n",
      "2024-02-19 00:34:24.342207: I tensorflow/cc/saved_model/loader.cc:316] SavedModel load for tags { serve }; Status: success: OK. Took 850445 microseconds.\n",
      "Summary on the non-converted ops:\n",
      "---------------------------------\n",
      " * Accepted dialects: tfl, builtin, func\n",
      " * Non-Converted Ops: 148, Total Ops 268, % non-converted = 55.22 %\n",
      " * 148 ARITH ops\n",
      "\n",
      "- arith.constant:  148 occurrences  (f32: 144, i32: 4)\n",
      "\n",
      "\n",
      "\n",
      "  (f32: 33)\n",
      "  (f32: 53)\n",
      "  (f32: 1)\n",
      "  (f32: 4)\n",
      "  (f32: 1)\n",
      "  (f32: 18)\n",
      "  (f32: 4)\n",
      "  (f32: 1)\n",
      "  (f32: 1)\n",
      "  (f32: 1)\n"
     ]
    }
   ],
   "source": [
    "converter = tf.lite.TFLiteConverter.from_saved_model(\"resnet_high_smartbin\") # path to the SavedModel directory\n",
    "tflite_model = converter.convert()\n",
    "\n",
    "# Save the model.\n",
    "with open('model.tflite', 'wb') as f:\n",
    "  f.write(tflite_model)"
   ]
  },
  {
   "cell_type": "code",
   "execution_count": null,
   "metadata": {},
   "outputs": [],
   "source": []
  }
 ],
 "metadata": {
  "kernelspec": {
   "display_name": "yolo_test",
   "language": "python",
   "name": "python3"
  },
  "language_info": {
   "codemirror_mode": {
    "name": "ipython",
    "version": 3
   },
   "file_extension": ".py",
   "mimetype": "text/x-python",
   "name": "python",
   "nbconvert_exporter": "python",
   "pygments_lexer": "ipython3",
   "version": "3.11.7"
  },
  "orig_nbformat": 4
 },
 "nbformat": 4,
 "nbformat_minor": 2
}
